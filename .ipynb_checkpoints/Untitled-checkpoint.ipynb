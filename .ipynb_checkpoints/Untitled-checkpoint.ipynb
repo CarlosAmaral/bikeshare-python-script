{
 "cells": [
  {
   "cell_type": "code",
   "execution_count": 29,
   "metadata": {},
   "outputs": [],
   "source": [
    "import time\n",
    "import pandas as pd\n",
    "import numpy as np\n",
    "from datetime import timedelta\n",
    "\n",
    "CITY_DATA = {'chicago': 'chicago.csv',\n",
    "              'new york city': 'new_york_city.csv',\n",
    "              'washington': 'washington.csv'}"
   ]
  },
  {
   "cell_type": "code",
   "execution_count": 42,
   "metadata": {},
   "outputs": [
    {
     "name": "stdout",
     "output_type": "stream",
     "text": [
      "            Unnamed: 0  Start Time  End Time  Trip Duration  Start Station  \\\n",
      "User Type                                                                    \n",
      "Customer         61110       61110     61110          61110          61110   \n",
      "Dependent            1           1         1              1              1   \n",
      "Subscriber      238889      238889    238889         238889         238889   \n",
      "\n",
      "            End Station  Gender  Birth Year   month  \\\n",
      "User Type                                             \n",
      "Customer          61110      91          91   61110   \n",
      "Dependent             1       1           1       1   \n",
      "Subscriber       238889  238856      238889  238889   \n",
      "\n",
      "            Start and End Station Combo  \n",
      "User Type                                \n",
      "Customer                          61110  \n",
      "Dependent                             1  \n",
      "Subscriber                       238889  \n"
     ]
    }
   ],
   "source": [
    "city = \"chicago\"\n",
    "df = pd.read_csv(CITY_DATA[city])\n",
    "df['month'] = pd.to_datetime(df['Start Time']).dt.month\n",
    "kewl = df[df['month'] == 4]\n",
    "df['Start and End Station Combo'] = df['Start Station'].map(str) + ' - ' + df['End Station'].map(str)\n",
    "#df['category'].value_counts()\n",
    "kewl = df['User Type'].value_counts()\n",
    "print(kewl)\n"
   ]
  },
  {
   "cell_type": "code",
   "execution_count": null,
   "metadata": {},
   "outputs": [],
   "source": []
  },
  {
   "cell_type": "code",
   "execution_count": null,
   "metadata": {},
   "outputs": [],
   "source": []
  }
 ],
 "metadata": {
  "kernelspec": {
   "display_name": "Python 3",
   "language": "python",
   "name": "python3"
  },
  "language_info": {
   "codemirror_mode": {
    "name": "ipython",
    "version": 3
   },
   "file_extension": ".py",
   "mimetype": "text/x-python",
   "name": "python",
   "nbconvert_exporter": "python",
   "pygments_lexer": "ipython3",
   "version": "3.8.3"
  }
 },
 "nbformat": 4,
 "nbformat_minor": 4
}
